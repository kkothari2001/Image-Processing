{
 "cells": [
  {
   "cell_type": "code",
   "execution_count": 1,
   "metadata": {},
   "outputs": [],
   "source": [
    "from PIL import Image\n",
    "import numpy as np\n",
    "import matplotlib.pyplot as plt\n",
    "import math"
   ]
  },
  {
   "cell_type": "markdown",
   "metadata": {},
   "source": [
    "# Defining kernels"
   ]
  },
  {
   "cell_type": "code",
   "execution_count": 2,
   "metadata": {},
   "outputs": [],
   "source": [
    "sobel_xkernel = np.array([[ -1, 0, 1],\n",
    "                         [ -2, 0, 2],\n",
    "                         [ -1, 0, 1]])\n",
    "\n",
    "sobel_ykernel = np.array([[-1 ,-2 ,-1],\n",
    "                         [ 0 , 0 , 0],\n",
    "                         [ 1 , 2 , 1]])"
   ]
  },
  {
   "cell_type": "markdown",
   "metadata": {},
   "source": [
    "# Taking Input"
   ]
  },
  {
   "cell_type": "code",
   "execution_count": 9,
   "metadata": {},
   "outputs": [],
   "source": [
    "im = Image.open(\"edge-detection2.jpg\")\n",
    "arr= np.array(im)"
   ]
  },
  {
   "cell_type": "markdown",
   "metadata": {},
   "source": [
    "# GrayScale Conversion"
   ]
  },
  {
   "cell_type": "code",
   "execution_count": 10,
   "metadata": {},
   "outputs": [],
   "source": [
    "r, g, b = arr[:,:,0], arr[:,:,1], arr[:,:,2]\n",
    "grey_img = 0.2989 * r + 0.5870 * g + 0.1140 * b"
   ]
  },
  {
   "cell_type": "markdown",
   "metadata": {},
   "source": [
    "# Defining Applier"
   ]
  },
  {
   "cell_type": "code",
   "execution_count": 5,
   "metadata": {},
   "outputs": [],
   "source": [
    "def apply_filter(arr, filt):\n",
    "    filter_size = filt.shape[0]\n",
    "    ret = np.zeros((arr.shape[0]-filter_size +1,arr.shape[1]-filter_size +1))\n",
    "    \n",
    "    for i in range(ret.shape[0]):\n",
    "        for j in range(ret.shape[1]):\n",
    "            ret[i,j] = np.round(np.sum(arr[i:i+filter_size,j:j+filter_size]*filt))\n",
    "            ret[i,j] = np.sqrt(ret[i,j] **2)\n",
    "    ret = ret.astype('int')\n",
    "    return ret"
   ]
  },
  {
   "cell_type": "markdown",
   "metadata": {},
   "source": [
    "# Blurring"
   ]
  },
  {
   "cell_type": "code",
   "execution_count": 11,
   "metadata": {},
   "outputs": [],
   "source": [
    "gaussian_kernel = np.array([[1 / 256, 4  / 256,  6 / 256,  4 / 256, 1 / 256],\n",
    "                   [4 / 256, 16 / 256, 24 / 256, 16 / 256, 4 / 256],\n",
    "                   [6 / 256, 24 / 256, 36 / 256, 24 / 256, 6 / 256],\n",
    "                   [4 / 256, 16 / 256, 24 / 256, 16 / 256, 4 / 256],\n",
    "                   [1 / 256, 4  / 256,  6 / 256,  4 / 256, 1 / 256]])\n",
    "final_arr = apply_filter(grey_img,gaussian_kernel)"
   ]
  },
  {
   "cell_type": "code",
   "execution_count": 13,
   "metadata": {},
   "outputs": [],
   "source": [
    "v_edge = Image.fromarray(np.uint8(apply_filter(final_arr, sobel_xkernel)))\n",
    "v_edge.show()\n",
    "v_edge.save(\"Vertical edge detection.jpg\")"
   ]
  },
  {
   "cell_type": "code",
   "execution_count": 14,
   "metadata": {},
   "outputs": [],
   "source": [
    "h_edge = Image.fromarray(np.uint8(apply_filter(final_arr, sobel_ykernel)))\n",
    "h_edge.show()\n",
    "h_edge.save(\"Horizontal edge detection.jpg\")"
   ]
  },
  {
   "cell_type": "markdown",
   "metadata": {},
   "source": [
    "# Sobel detection"
   ]
  },
  {
   "cell_type": "code",
   "execution_count": 15,
   "metadata": {},
   "outputs": [],
   "source": [
    "def Sobel(arr):\n",
    "    x = apply_filter(arr, sobel_xkernel)\n",
    "    y = apply_filter(arr, sobel_ykernel)\n",
    "    return np.sqrt(x**2 +y**2)"
   ]
  },
  {
   "cell_type": "code",
   "execution_count": 17,
   "metadata": {},
   "outputs": [],
   "source": [
    "sob_edge = Image.fromarray(np.uint8(Sobel(final_arr)))\n",
    "sob_edge.show()\n",
    "sob_edge.save(\"Sobel edge detection.jpg\")"
   ]
  }
 ],
 "metadata": {
  "kernelspec": {
   "display_name": "Python 3",
   "language": "python",
   "name": "python3"
  },
  "language_info": {
   "codemirror_mode": {
    "name": "ipython",
    "version": 3
   },
   "file_extension": ".py",
   "mimetype": "text/x-python",
   "name": "python",
   "nbconvert_exporter": "python",
   "pygments_lexer": "ipython3",
   "version": "3.6.8"
  }
 },
 "nbformat": 4,
 "nbformat_minor": 4
}
