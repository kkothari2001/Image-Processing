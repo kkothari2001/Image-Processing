{
 "cells": [
  {
   "cell_type": "code",
   "execution_count": 1,
   "metadata": {},
   "outputs": [],
   "source": [
    "import numpy as np\n",
    "from PIL import Image\n",
    "import matplotlib.pyplot as plt\n",
    "import cv2"
   ]
  },
  {
   "cell_type": "markdown",
   "metadata": {},
   "source": [
    "# Importing image and conversion to HSV"
   ]
  },
  {
   "cell_type": "code",
   "execution_count": 19,
   "metadata": {},
   "outputs": [],
   "source": [
    "arr = np.array(Image.open(\"mask.jpg\"))\n",
    "for i in range(arr.shape[0]):\n",
    "    for j in range(arr.shape[1]):\n",
    "        arr[i,j,:] = arr[i,j,2],arr[i,j,1],arr[i,j,0]\n",
    "hsv = cv2.cvtColor(arr, cv2.COLOR_BGR2HSV)"
   ]
  },
  {
   "cell_type": "markdown",
   "metadata": {},
   "source": [
    "# Selection of edge cases"
   ]
  },
  {
   "cell_type": "code",
   "execution_count": 20,
   "metadata": {},
   "outputs": [],
   "source": [
    "lower_blue = np.array([100,30,30])\n",
    "upper_blue = np.array([140,255,255])"
   ]
  },
  {
   "cell_type": "markdown",
   "metadata": {},
   "source": [
    "# Defining the getMask function"
   ]
  },
  {
   "cell_type": "code",
   "execution_count": 21,
   "metadata": {},
   "outputs": [],
   "source": [
    "def getMask(hsv, lower_range, upper_range):\n",
    "    h,w,c = hsv.shape\n",
    "    l1, l2, l3 = lower_range\n",
    "    u1, u2, u3 = upper_range\n",
    "    mask = np.zeros(hsv.shape, dtype=np.uint8)\n",
    "    for i in range(h):\n",
    "        for j in range(w):\n",
    "            if hsv[i][j][0] >= l1 and hsv[i][j][1] >= l2 and hsv[i][j][2] >= l3 and hsv[i][j][0] <= u1 and hsv[i][j][1] <= u2 and hsv[i][j][2] <= u3:\n",
    "                    mask[i][j][0] = hsv[i][j][0]\n",
    "                    mask[i][j][1] = hsv[i][j][1]\n",
    "                    mask[i][j][2] = hsv[i][j][2]\n",
    "                    \n",
    "    \n",
    "    return mask"
   ]
  },
  {
   "cell_type": "markdown",
   "metadata": {},
   "source": [
    "# Making and applying mask"
   ]
  },
  {
   "cell_type": "code",
   "execution_count": 22,
   "metadata": {},
   "outputs": [],
   "source": [
    "mask = getMask(hsv,lower_blue,upper_blue)\n",
    "out = np.bitwise_and(mask,hsv)"
   ]
  },
  {
   "cell_type": "code",
   "execution_count": 23,
   "metadata": {},
   "outputs": [],
   "source": [
    "output = Image.fromarray(np.uint8(out))\n",
    "output.show()"
   ]
  },
  {
   "cell_type": "code",
   "execution_count": null,
   "metadata": {},
   "outputs": [],
   "source": []
  }
 ],
 "metadata": {
  "kernelspec": {
   "display_name": "Python 3",
   "language": "python",
   "name": "python3"
  },
  "language_info": {
   "codemirror_mode": {
    "name": "ipython",
    "version": 3
   },
   "file_extension": ".py",
   "mimetype": "text/x-python",
   "name": "python",
   "nbconvert_exporter": "python",
   "pygments_lexer": "ipython3",
   "version": "3.6.8"
  }
 },
 "nbformat": 4,
 "nbformat_minor": 4
}
