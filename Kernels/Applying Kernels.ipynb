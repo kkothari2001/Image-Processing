{
 "cells": [
  {
   "cell_type": "code",
   "execution_count": 12,
   "metadata": {},
   "outputs": [],
   "source": [
    "from PIL import Image\n",
    "%matplotlib inline\n",
    "import matplotlib.pyplot as plt\n",
    "import numpy as np"
   ]
  },
  {
   "cell_type": "markdown",
   "metadata": {},
   "source": [
    "# Loading the image"
   ]
  },
  {
   "cell_type": "code",
   "execution_count": 128,
   "metadata": {},
   "outputs": [],
   "source": [
    "im = Image.open(\"filter.png\")\n",
    "arr= np.array(im)"
   ]
  },
  {
   "cell_type": "markdown",
   "metadata": {},
   "source": [
    "# Defining the kernels"
   ]
  },
  {
   "cell_type": "code",
   "execution_count": 142,
   "metadata": {},
   "outputs": [],
   "source": [
    "median_blur_kernel = np.array([[1 / 25, 1 / 25, 1 / 25, 1 / 25, 1 / 25],\n",
    "                                [1 / 25, 1 / 25, 1 / 25, 1 / 25, 1 / 25],\n",
    "                                [1 / 25, 1 / 25, 1 / 25, 1 / 25, 1 / 25],\n",
    "                                [1 / 25, 1 / 25, 1 / 25, 1 / 25, 1 / 25],\n",
    "                                [1 / 25, 1 / 25, 1 / 25, 1 / 25, 1 / 25]])\n",
    "\n",
    "gaussian_blur_kernel = np.array([[1 / 256, 4  / 256,  6 / 256,  4 / 256, 1 / 256],\n",
    "                                [4 / 256, 16 / 256, 24 / 256, 16 / 256, 4 / 256],\n",
    "                                [6 / 256, 24 / 256, 36 / 256, 24 / 256, 6 / 256],\n",
    "                                [4 / 256, 16 / 256, 24 / 256, 16 / 256, 4 / 256],\n",
    "                                [1 / 256, 4  / 256,  6 / 256,  4 / 256, 1 / 256]])\n",
    "\n",
    "sharpening_kernel = np.array([[-1, -1, -1],[-1, 9, -1],[-1, -1, -1]])"
   ]
  },
  {
   "cell_type": "markdown",
   "metadata": {},
   "source": [
    "# Function to apply any kernel to the image input"
   ]
  },
  {
   "cell_type": "code",
   "execution_count": 144,
   "metadata": {},
   "outputs": [],
   "source": [
    "def apply_filter(arr, filt):\n",
    "    filt = np.reshape(filt,(filt.shape[0],filt.shape[1],1))\n",
    "    filter_size = filt.shape[0]\n",
    "    ret = np.zeros((arr.shape[0]-filter_size +1,arr.shape[1]-filter_size +1,4))\n",
    "    \n",
    "    for i in range(ret.shape[0]):\n",
    "        for j in range(ret.shape[1]):\n",
    "            ret[i,j,:] = np.round(np.sum(np.sum(arr[i:i+filter_size,j:j+filter_size,:]*filt,axis=0,keepdims=True),axis=1,keepdims=True))\n",
    "        \n",
    "    ret = ret.astype('int')\n",
    "    return ret"
   ]
  },
  {
   "cell_type": "markdown",
   "metadata": {},
   "source": [
    "# Using the kernels"
   ]
  },
  {
   "cell_type": "code",
   "execution_count": 145,
   "metadata": {},
   "outputs": [],
   "source": [
    "median_blur_image = Image.fromarray(np.uint8(apply_filter(arr, median_blur_kernel)))\n",
    "gauss_blur_image = Image.fromarray(np.uint8(apply_filter(arr, gaussian_blur_kernel)))\n",
    "sharpened_image = Image.fromarray(np.uint8(apply_filter(arr, sharpening_kernel)))"
   ]
  },
  {
   "cell_type": "markdown",
   "metadata": {},
   "source": [
    "# Showing the images"
   ]
  },
  {
   "cell_type": "code",
   "execution_count": 133,
   "metadata": {},
   "outputs": [],
   "source": [
    "median_blur_image.show()\n",
    "gauss_blur_image.show()\n",
    "sharpened_image.show()"
   ]
  },
  {
   "cell_type": "markdown",
   "metadata": {},
   "source": [
    "# Saving the images"
   ]
  },
  {
   "cell_type": "code",
   "execution_count": 146,
   "metadata": {},
   "outputs": [],
   "source": [
    "median_blur_image.save(\"median blur.png\")\n",
    "gauss_blur_image.save(\"gauss blur.png\")\n",
    "sharpened_image.save(\"sharpen.png\")"
   ]
  }
 ],
 "metadata": {
  "kernelspec": {
   "display_name": "Python 3",
   "language": "python",
   "name": "python3"
  },
  "language_info": {
   "codemirror_mode": {
    "name": "ipython",
    "version": 3
   },
   "file_extension": ".py",
   "mimetype": "text/x-python",
   "name": "python",
   "nbconvert_exporter": "python",
   "pygments_lexer": "ipython3",
   "version": "3.6.8"
  }
 },
 "nbformat": 4,
 "nbformat_minor": 4
}
